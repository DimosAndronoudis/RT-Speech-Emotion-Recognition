{
  "nbformat": 4,
  "nbformat_minor": 0,
  "metadata": {
    "colab": {
      "provenance": [],
      "authorship_tag": "ABX9TyMAGLQr1Ox/IfUWfTorzt6K",
      "include_colab_link": true
    },
    "kernelspec": {
      "name": "python3",
      "display_name": "Python 3"
    },
    "language_info": {
      "name": "python"
    }
  },
  "cells": [
    {
      "cell_type": "markdown",
      "metadata": {
        "id": "view-in-github",
        "colab_type": "text"
      },
      "source": [
        "<a href=\"https://colab.research.google.com/github/DimosAndronoudis/RT-Speech-Emotion-Recognition/blob/main/Real_Time_Speech_Emotion_Recognition.ipynb\" target=\"_parent\"><img src=\"https://colab.research.google.com/assets/colab-badge.svg\" alt=\"Open In Colab\"/></a>"
      ]
    },
    {
      "cell_type": "code",
      "source": [
        "!pip install sounddevice librosa scikit-learn joblib --quiet\n",
        "\n",
        "import os\n",
        "import librosa\n",
        "import numpy as np\n",
        "import sounddevice as sd\n",
        "from scipy.io.wavfile import write\n",
        "from sklearn.model_selection import train_test_split\n",
        "from sklearn.neural_network import MLPClassifier\n",
        "from sklearn.metrics import classification_report\n",
        "import joblib\n"
      ],
      "metadata": {
        "id": "XRMS442OP74J"
      },
      "execution_count": null,
      "outputs": []
    },
    {
      "cell_type": "code",
      "source": [
        "# Emotion label map based on RAVDESS naming convention\n",
        "emotion_map = {\n",
        "    \"01\": \"neutral\",\n",
        "    \"02\": \"calm\",\n",
        "    \"03\": \"happy\",\n",
        "    \"04\": \"sad\",\n",
        "    \"05\": \"angry\",\n",
        "    \"06\": \"fearful\",\n",
        "    \"07\": \"disgust\",\n",
        "    \"08\": \"surprised\"\n",
        "}"
      ],
      "metadata": {
        "id": "EYF4G9CmP83o"
      },
      "execution_count": null,
      "outputs": []
    },
    {
      "cell_type": "code",
      "source": [
        "# Feature extraction\n",
        "def extract_features(file):\n",
        "    y, sr = librosa.load(file)\n",
        "    mfccs = librosa.feature.mfcc(y=y, sr=sr, n_mfcc=13)\n",
        "    return np.mean(mfccs.T, axis=0)\n",
        "\n",
        "# Train the model using RAVDESS\n",
        "\n",
        "def train_model():\n",
        "    print(\"📁 Training model from uploaded RAVDESS samples...\")\n",
        "    data_dir = \"ravdess\"\n",
        "    features, labels = [], []\n",
        "    for file in os.listdir(data_dir):\n",
        "        if file.endswith(\".wav\"):\n",
        "            emotion_code = file.split(\"-\")[2]\n",
        "            emotion = emotion_map.get(emotion_code)\n",
        "            if emotion:\n",
        "                path = os.path.join(data_dir, file)\n",
        "                feat = extract_features(path)\n",
        "                features.append(feat)\n",
        "                labels.append(emotion)\n",
        "    X_train, X_test, y_train, y_test = train_test_split(features, labels, test_size=0.2)\n",
        "    clf = MLPClassifier(hidden_layer_sizes=(100,), max_iter=500)\n",
        "    clf.fit(X_train, y_train)\n",
        "    print(\"Accuracy on test set:\")\n",
        "    print(classification_report(y_test, clf.predict(X_test)))\n",
        "    joblib.dump(clf, \"emotion_model.pkl\")\n",
        "    print(\"Model saved as emotion_model.pkl\")\n",
        "\n",
        "# Real-time recording\n",
        "\n",
        "def record_audio(duration=3, fs=22050, filename='realtime.wav'):\n",
        "    print(f\"🎙 Recording for {duration} seconds...\")\n",
        "    recording = sd.rec(int(duration * fs), samplerate=fs, channels=1)\n",
        "    sd.wait()\n",
        "    write(filename, fs, recording)\n",
        "    print(\"✅ Done recording.\")\n",
        "\n",
        "# Real-time emotion prediction\n",
        "\n",
        "def predict_emotion():\n",
        "    record_audio()\n",
        "    features = extract_features('realtime.wav').reshape(1, -1)\n",
        "    model = joblib.load('emotion_model.pkl')\n",
        "    prediction = model.predict(features)[0]\n",
        "    print(f'Predicted emotion: {prediction}')\n",
        "\n",
        "# Uploading files\n",
        "from google.colab import files\n",
        "\n",
        "def upload_files():\n",
        "    print(\"Upload your RAVDESS .wav files into a 'ravdess' folder.\")\n",
        "    os.makedirs(\"ravdess\", exist_ok=True)\n",
        "    uploaded = files.upload()\n",
        "    for name in uploaded.keys():\n",
        "        os.rename(name, os.path.join(\"ravdess\", name))\n",
        "    print(\"Files uploaded and moved to 'ravdess/'\")\n",
        "\n",
        "# Entry point for Colab\n",
        "print(\"\\n Ready for real-time emotion recognition in Colab\")\n",
        "print(\"1. Run upload_files() to upload RAVDESS WAVs\")\n",
        "print(\"2. Run train_model() to build your model\")\n",
        "print(\"3. Run predict_emotion() to start live predictions\")\n"
      ],
      "metadata": {
        "id": "B5vrYYDNP_Dv"
      },
      "execution_count": null,
      "outputs": []
    }
  ]
}